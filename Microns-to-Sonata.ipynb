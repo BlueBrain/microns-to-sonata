{
 "cells": [
  {
   "cell_type": "code",
   "execution_count": 1,
   "id": "ceb2cbd8",
   "metadata": {},
   "outputs": [],
   "source": [
    "import numpy\n",
    "import pandas\n",
    "import morphio\n",
    "import conntility\n",
    "import os\n",
    "\n",
    "from scipy.spatial import distance\n",
    "\n",
    "root_morph = \"/gpfs/bbp.cscs.ch/project/proj3/projects-data/2023.12.18-microns-skeletonization\"\n",
    "conn_fn = \"/gpfs/bbp.cscs.ch/home/reimann/data/mm3/microns_mm3_connectome.h5\"\n",
    "\n",
    "root_morph_out = \"./translated\"\n",
    "root_sonata_out = \"./sonata\"\n",
    "sonata_edges = \"edges.h5\"\n",
    "sonata_nodes = \"nodes.h5\"\n",
    "node_population = \"default\"\n",
    "edge_population = \"default\"\n",
    "\n",
    "M = conntility.ConnectivityMatrix.from_h5(conn_fn, \"full\")"
   ]
  },
  {
   "cell_type": "markdown",
   "id": "cd43ac52",
   "metadata": {},
   "source": [
    "# Read contents of root_morph.\n",
    "Finds all swc files in Marwan's morphology release and creates a Series where the index is the \"pt_root_id\" and the value is the path to the morphology file"
   ]
  },
  {
   "cell_type": "code",
   "execution_count": 2,
   "id": "3fd16160",
   "metadata": {},
   "outputs": [],
   "source": [
    "subdirs = [_x for _x in os.listdir(root_morph) if _x.startswith(\"2023\")]\n",
    "\n",
    "def dir_to_series(root):\n",
    "    fns = [_x for _x in os.listdir(root) if \n",
    "           os.path.isfile(os.path.join(root, _x)) and \n",
    "           os.path.splitext(_x)[1] == \".swc\"]\n",
    "    return pandas.Series([\n",
    "        os.path.join(root, _x) for _x in fns\n",
    "    ], index=[\n",
    "        int(os.path.splitext(_x)[0]) for _x in fns\n",
    "    ])\n",
    "\n",
    "morph_series = dir_to_series(os.path.join(root_morph, subdirs[0]))"
   ]
  },
  {
   "cell_type": "markdown",
   "id": "37ae24c7",
   "metadata": {},
   "source": [
    "# Generate subnetwork\n",
    "Create the subgraph of M that contains all nodes that are contained in the release, plus the edges between them"
   ]
  },
  {
   "cell_type": "code",
   "execution_count": 3,
   "id": "b13a7470",
   "metadata": {},
   "outputs": [],
   "source": [
    "lookup = M._vertex_properties[\"pt_root_id\"].reset_index().set_index(\"pt_root_id\")[\"index\"]\n",
    "S = M.subpopulation(lookup[morph_series.index].values)"
   ]
  },
  {
   "cell_type": "markdown",
   "id": "065926bf",
   "metadata": {},
   "source": [
    "# Translate morphologies\n",
    "This is not strictly necessary, but we prefer morphologies that are centered with their soma at the origin.\n",
    "The location of the neuron is then given as a node property.\n",
    "\n",
    "Here, we create copies of all morphologies that are translated by the corresponding node location in M."
   ]
  },
  {
   "cell_type": "code",
   "execution_count": 4,
   "id": "083a3c82",
   "metadata": {},
   "outputs": [],
   "source": [
    "def translate_morphology(m, offset, out_fn):\n",
    "    mm = m.as_mutable()\n",
    "    offset = offset.reshape((1, -1))\n",
    "    mm.soma.points = mm.soma.points - offset\n",
    "    for sec in mm.iter():\n",
    "        sec.points = sec.points - offset\n",
    "\n",
    "    m2 = mm.as_immutable()\n",
    "    mm.write(out_fn)\n",
    "    return m2\n",
    "\n",
    "morph_series_tl = {} # As morph_series, but for the translated morphology files\n",
    "\n",
    "for i, nrn in S.vertices.iterrows():\n",
    "    offset = (nrn[[\"x_nm\", \"y_nm\", \"z_nm\"]] / 1000).values.reshape((1, -1))\n",
    "    m = morphio.Morphology(morph_series[nrn[\"pt_root_id\"]])\n",
    "    _, fn_base = os.path.split(morph_series[nrn[\"pt_root_id\"]])\n",
    "    fn_out = os.path.join(root_morph_out, fn_base)\n",
    "    m2 = translate_morphology(m, offset, fn_out)\n",
    "    morph_series_tl[nrn[\"pt_root_id\"]] = fn_out\n",
    "\n",
    "morph_series_tl = pandas.DataFrame(morph_series_tl, index=[\"path\"]).transpose()[\"path\"]"
   ]
  },
  {
   "cell_type": "markdown",
   "id": "539cbce3",
   "metadata": {},
   "source": [
    "# Create Sonata-compatible synapse DataFrame\n",
    "This is the only really complex step.\n",
    "While M.edges is already a DataFrame of synapse properties, we will have to make it Sonata compatible.\n",
    "\n",
    "That comprises renaming some columns, moving from nm to um. But also looking up the section and segment ids where all synapses are placed. So, we do a bit of 3d geometry here."
   ]
  },
  {
   "cell_type": "code",
   "execution_count": 71,
   "id": "1d3aef95",
   "metadata": {},
   "outputs": [
    {
     "data": {
      "text/plain": [
       "array([0.88081 , 0.88081 , 0.88081 , 0.88081 , 0.88081 , 0.88081 ,\n",
       "       0.88086 , 0.88081 , 0.88081 , 0.88081 , 0.2     , 0.2     ,\n",
       "       0.88081 , 0.88081 , 0.88081 , 0.88081 , 0.88081 , 0.88081 ,\n",
       "       0.88081 , 0.88081 , 1.245758, 0.88081 , 0.88081 , 0.88081 ,\n",
       "       0.88081 , 0.88081 , 0.88081 , 0.88081 , 0.88081 , 0.88081 ,\n",
       "       0.88081 , 0.88081 , 0.88081 , 0.88081 , 0.88081 , 0.88081 ,\n",
       "       0.88081 , 0.88081 , 0.2     , 0.88081 , 0.88081 , 1.245758,\n",
       "       0.88081 , 0.88081 , 0.88081 , 0.88081 , 0.88081 , 0.88081 ,\n",
       "       0.653874], dtype=float32)"
      ]
     },
     "execution_count": 71,
     "metadata": {},
     "output_type": "execute_result"
    }
   ],
   "source": [
    "m.section(4).diameters"
   ]
  },
  {
   "cell_type": "code",
   "execution_count": 86,
   "id": "664ce440",
   "metadata": {},
   "outputs": [],
   "source": [
    "def morphology(nrn):\n",
    "    m = morphio.Morphology(morph_series[nrn[\"pt_root_id\"]])\n",
    "    return m\n",
    "\n",
    "def point_segment_distances(sec_pts, sec_radii, syn_locs, from_surface=True):\n",
    "    if len(syn_locs) == 0:\n",
    "        return numpy.empty((0, len(sec_pts) - 1)), numpy.empty((0, len(sec_pts) - 1)), \\\n",
    "          numpy.empty((0, len(sec_pts) - 1, 3))\n",
    "    # Distances from the start and end points of segments\n",
    "    dist_start = distance.cdist(syn_locs, sec_pts[:-1])\n",
    "    dist_end = distance.cdist(syn_locs, sec_pts[1:])\n",
    "\n",
    "    d_sec = numpy.diff(sec_pts, axis=0) # segs x 3\n",
    "    # lengths of all segments\n",
    "    seg_len = numpy.linalg.norm(d_sec, axis=1, keepdims=True) # segs x 1\n",
    "    # Normalized vectors indicating the direction of each segment\n",
    "    d_sec = d_sec / seg_len # segs x 3\n",
    "    # Vectors indicating offsets from the start points of each segment to each synapse\n",
    "    d_syn = syn_locs.reshape((-1, 1, 3)) - sec_pts[:-1].reshape((1, -1, 3)) # syns x segs x 3\n",
    "    # Lengths of these vectors\n",
    "    dist_syn = numpy.linalg.norm(d_syn, axis=-1, keepdims=True) # syns x segs x 1\n",
    "    # Normalized vectors indicating the directions from segment start points to synapses\n",
    "    d_syn_norm = d_syn / dist_syn # syns x segs x 3\n",
    "\n",
    "    # Cosine of angle between the direction of the segment and the direction to a synapse\n",
    "    cos_angle = (d_syn_norm * d_sec).sum(axis=-1) # syns x segs\n",
    "    # Distances between synapses and the lines defined by each segment\n",
    "    pw_dist = numpy.sin(numpy.arccos(cos_angle)) * dist_syn[:, :, 0] # syns x segs\n",
    "\n",
    "    # Distances between segment start points and the locations of synapses projected onto the line\n",
    "    proj_dist = cos_angle * dist_syn[:, : , 0] # syns x segs\n",
    "    # That distance < 0 indicates a location before the start point. Use distance from start point instead\n",
    "    pw_dist[proj_dist < 0] = dist_start[proj_dist < 0]\n",
    "    # That distance > segment length indicates location after the end point. Use distance from end point instead.\n",
    "    pw_dist[proj_dist > seg_len.transpose()] = dist_end[proj_dist > seg_len.transpose()]\n",
    "    \n",
    "    # Consequently, segment offset values are between 0 (start point) and length (end point)\n",
    "    seg_offsets = numpy.maximum(numpy.minimum(proj_dist, seg_len.transpose()), 0) # syns x segs\n",
    "    \n",
    "    if from_surface:\n",
    "        # Calculate radii at projected locations and subtract them to yield distance from surface\n",
    "        nrml_offsets = seg_offsets / seg_len.transpose()\n",
    "        pw_dist = pw_dist - ((1 - nrml_offsets) * sec_radii[:-1] + nrml_offsets * sec_radii[1:])\n",
    "        pw_dist = numpy.maximum(pw_dist, 0)\n",
    "    \n",
    "    # locations in 3d of synapse locations projected onto the segments\n",
    "    pts3d = sec_pts[:-1].reshape((1, -1, 3)) +\\\n",
    "       seg_offsets.reshape(seg_offsets.shape + (1,)) *\\\n",
    "       numpy.repeat(d_sec.reshape((1, -1, 3)), seg_offsets.shape[0], axis=0)\n",
    "    \n",
    "    return pw_dist, seg_offsets, pts3d\n",
    "\n",
    "def point_sections_distances(m2, syn_locs, from_surface=True):\n",
    "    all_pw_dist, all_offsets, all_3d = zip(*[\n",
    "        point_segment_distances(_sec.points, _sec.diameters / 2, syn_locs, from_surface=from_surface)\n",
    "        for _sec in m2.sections\n",
    "    ])\n",
    "    return numpy.hstack(all_pw_dist),\\\n",
    "           numpy.hstack(all_offsets),\\\n",
    "           numpy.hstack(all_3d)\n",
    "\n",
    "def find_synapse_location_on_morphology(m2, syn_locs, soma_epsilon=1.0, from_surface=True):\n",
    "    # Assumes morphology is centered on soma!\n",
    "    dist_from_soma = numpy.linalg.norm(syn_locs, axis=1)\n",
    "    is_on_soma = dist_from_soma < (soma_epsilon + m2.soma.diameters / 2)\n",
    "    \n",
    "    n_per_sec = numpy.diff(m2.section_offsets) - 1\n",
    "    \n",
    "    sec_lo = numpy.hstack([i * numpy.ones(n, dtype=int)\n",
    "                           for i, n in enumerate(n_per_sec)])\n",
    "    \n",
    "    all_pw_dist, all_offsets, all_3d = point_sections_distances(m2, syn_locs, from_surface=from_surface)\n",
    "    D = numpy.min(all_pw_dist, axis=1)\n",
    "    idxx = numpy.argmin(all_pw_dist, axis=1)\n",
    "    \n",
    "    pts3d = all_3d[numpy.arange(all_3d.shape[0]), idxx, :] # syns x 3\n",
    "    res_sec = sec_lo[idxx]\n",
    "    res_seg = idxx - numpy.cumsum(numpy.hstack([0, n_per_sec]))[res_sec]\n",
    "    res_off = all_offsets[numpy.arange(all_offsets.shape[0]), idxx]\n",
    "    \n",
    "    res_sec[is_on_soma] = -1\n",
    "    res_seg[is_on_soma] = 0\n",
    "    res_off[is_on_soma] = 0\n",
    "    pts3d[is_on_soma, :] = [0, 0, 0]\n",
    "    D[is_on_soma] = numpy.maximum(dist_from_soma[is_on_soma] - m2.soma.diameters / 2, 0)\n",
    "    \n",
    "    return res_sec, res_seg, res_off, D, pts3d\n",
    "\n",
    "def location_from_morphology(m, props): # Inverse. For validation.\n",
    "    for _, row in props.iterrows():\n",
    "        sec_id = int(row[\"afferent_section_id\"])\n",
    "        if sec_id == -1:\n",
    "            locs.append(m.soma.center)\n",
    "            continue\n",
    "        seg_id = int(row[\"afferent_segment_id\"])\n",
    "        sec = m.section(sec_id)\n",
    "        pts = sec.points[seg_id:(seg_id + 2)]\n",
    "        l = numpy.sum((pts[0] - pts[1]) ** 2)\n",
    "        loc = pts[0] + (row[\"afferent_segment_offset\"] / l) * (pts[1] - pts[0])\n",
    "\n",
    "        locs.append(loc)\n",
    "\n",
    "    locs = numpy.vstack(locs)\n",
    "    return locs\n",
    "\n",
    "def base_synapse_properties_df(m2, syn_locs, prefix=\"afferent\", soma_epsilon=1.0, from_surface=True):\n",
    "    res_sec, res_seg, res_off, D, pts3d = find_synapse_location_on_morphology(m2, syn_locs, soma_epsilon,\n",
    "                                                                              from_surface=from_surface)\n",
    "    sec_types = m2.section_types[res_sec]\n",
    "    sec_types[res_sec == -1] = 1 # SOMA\n",
    "    return pandas.DataFrame({\n",
    "            prefix + \"_section_id\": res_sec,\n",
    "            prefix + \"_segment_id\": res_seg,\n",
    "            prefix + \"_segment_offset\": res_off,\n",
    "            prefix + \"_section_type\": sec_types,\n",
    "            prefix + \"_spine_length\": D, # TODO: Subtract local segment radius\n",
    "            prefix + \"_center_x\": pts3d[:, 0],\n",
    "            prefix + \"_center_y\": pts3d[:, 1],\n",
    "            prefix + \"_center_z\": pts3d[:, 2]\n",
    "        })\n",
    "    \n",
    "def synapse_properties_df(S, nrn, lst_additional_props, side=\"col\", from_surface=True):\n",
    "    prefix = \"afferent\"\n",
    "    if side == \"row\": prefix = \"efferent\"\n",
    "    m = morphology(nrn)\n",
    "    Ssub = S.filter(\"pt_root_id\", side=side).eq(nrn[\"pt_root_id\"])\n",
    "    syn_locs = Ssub.edges[[\"x_nm\", \"y_nm\", \"z_nm\"]] / 1000\n",
    "    props = base_synapse_properties_df(m, syn_locs.values, prefix=prefix, from_surface=from_surface)\n",
    "    \n",
    "    #xyz = Ssub.edges[[\"x_nm\", \"y_nm\", \"z_nm\"]].reset_index(drop=True) / 1000\n",
    "    xyz = syn_locs.reset_index(drop=True).rename(columns={\"x_nm\": prefix + \"_surface_x\",\n",
    "                                                          \"y_nm\": prefix + \"_surface_y\",\n",
    "                                                          \"z_nm\": prefix + \"_surface_z\"})\n",
    "    props = pandas.concat([\n",
    "        xyz,\n",
    "        props,\n",
    "        Ssub.edges[lst_additional_props].reset_index(drop=True)\n",
    "    ], axis=1)\n",
    "    \n",
    "    \n",
    "    idxx = pandas.DataFrame({\n",
    "        \"source_node_id\": Ssub._edge_indices.values[:, 0],\n",
    "        \"target_node_id\": Ssub._edge_indices.values[:, 1]\n",
    "    })\n",
    "    return props, idxx"
   ]
  },
  {
   "cell_type": "markdown",
   "id": "1911b93a",
   "metadata": {},
   "source": [
    "### Quick validation that the results are consistent"
   ]
  },
  {
   "cell_type": "code",
   "execution_count": 81,
   "id": "6c97d63d",
   "metadata": {},
   "outputs": [
    {
     "data": {
      "text/plain": [
       "[<matplotlib.lines.Line2D at 0x2aab0b1d1600>]"
      ]
     },
     "execution_count": 81,
     "metadata": {},
     "output_type": "execute_result"
    },
    {
     "data": {
      "image/png": "[encoded data removed]",
      "text/plain": [
       "<Figure size 400x200 with 2 Axes>"
      ]
     },
     "metadata": {},
     "output_type": "display_data"
    }
   ],
   "source": [
    "from matplotlib import pyplot as plt\n",
    "\n",
    "fig = plt.figure(figsize=(4, 2))\n",
    "ax = fig.add_subplot(1, 2, 1)\n",
    "A, B = synapse_properties_df(M, nrn, [\"size\"], side=\"col\", from_surface=False)\n",
    "a = [\"afferent_surface_x\", \"afferent_surface_y\", \"afferent_surface_z\"]\n",
    "b = [\"afferent_center_x\", \"afferent_center_y\", \"afferent_center_z\"]\n",
    "o = numpy.sqrt(numpy.sum((A[a].values - A[b].values) ** 2, axis=1)) \n",
    "ax.plot(o, A[\"afferent_spine_length\"], '.')\n",
    "\n",
    "ax = fig.add_subplot(1, 2, 2)\n",
    "A, B = synapse_properties_df(M, nrn, [\"size\"], side=\"row\", from_surface=False)\n",
    "a = [\"efferent_surface_x\", \"efferent_surface_y\", \"efferent_surface_z\"]\n",
    "b = [\"efferent_center_x\", \"efferent_center_y\", \"efferent_center_z\"]\n",
    "o = numpy.sqrt(numpy.sum((A[a].values - A[b].values) ** 2, axis=1)) \n",
    "\n",
    "ax.plot(o, A[\"efferent_spine_length\"], '.')"
   ]
  },
  {
   "cell_type": "markdown",
   "id": "ee7924a0",
   "metadata": {},
   "source": [
    "### Run for afferent end efferent sides. "
   ]
  },
  {
   "cell_type": "code",
   "execution_count": 87,
   "id": "cd832b98",
   "metadata": {},
   "outputs": [],
   "source": [
    "props_aff, idxx_aff = zip(*[synapse_properties_df(S, nrn, [\"size\", \"id\"], side=\"col\") for _, nrn in S.vertices.iterrows()])\n",
    "props_aff = pandas.concat(props_aff, axis=0).reset_index(drop=True)\n",
    "idxx_aff = pandas.concat(idxx_aff, axis=0).reset_index(drop=True)\n",
    "\n",
    "props_eff, idxx_eff = zip(*[synapse_properties_df(S, nrn, [\"size\", \"id\"], side=\"row\") for _, nrn in S.vertices.iterrows()])\n",
    "props_eff = pandas.concat(props_eff, axis=0).reset_index(drop=True)\n",
    "idxx_eff = pandas.concat(idxx_eff, axis=0).reset_index(drop=True)\n",
    "\n",
    "# Use \"id\" property to give both views the same ordering\n",
    "props_eff = props_eff.reset_index().set_index(\"id\").loc[props_aff[\"id\"]]\n",
    "assert numpy.all(idxx_eff.loc[props_eff[\"index\"]].values == idxx_aff.values)"
   ]
  },
  {
   "cell_type": "code",
   "execution_count": 88,
   "id": "bb8ef846",
   "metadata": {},
   "outputs": [],
   "source": [
    "props = pandas.concat([\n",
    "    props_aff.rename(columns={\"afferent_spine_length\": \"spine_length\"}),\n",
    "    props_eff.reset_index(drop=True).drop(columns=[\"index\", \"efferent_spine_length\", \"size\"])\n",
    "    ],\n",
    "    axis=1)\n",
    "idxx = idxx_aff"
   ]
  },
  {
   "cell_type": "markdown",
   "id": "e28bfb76",
   "metadata": {},
   "source": [
    "# Write EdgePopulation"
   ]
  },
  {
   "cell_type": "code",
   "execution_count": 64,
   "id": "5aafabaa",
   "metadata": {},
   "outputs": [],
   "source": [
    "import h5py\n",
    "from libsonata import EdgePopulation\n",
    "\n",
    "if not os.path.exists(root_sonata_out):\n",
    "    os.makedirs(root_sonata_out)\n",
    "\n",
    "output_path = os.path.join(root_sonata_out, sonata_edges)\n",
    "population = edge_population\n",
    "\n",
    "with h5py.File(output_path, 'w') as h5:\n",
    "    grp = h5.create_group('/edges/{0}'.format(population))\n",
    "    for _col in idxx.columns:\n",
    "        grp.create_dataset(_col, data=idxx[_col].values.astype(numpy.int64))\n",
    "    \n",
    "    prop_grp = grp.create_group(\"0\")\n",
    "    for _col in props.columns:\n",
    "        prop_grp.create_dataset(_col, data=props[_col].values)\n",
    "        \n",
    "EdgePopulation.write_indices(\n",
    "        output_path,\n",
    "        population,\n",
    "        len(S),\n",
    "        len(S)\n",
    "    )\n"
   ]
  },
  {
   "cell_type": "markdown",
   "id": "d7861ff7",
   "metadata": {},
   "source": [
    "# Write NodePopulation\n",
    "Similarly, for the node population we have to rename some columns and move from nm to um."
   ]
  },
  {
   "cell_type": "code",
   "execution_count": 10,
   "id": "0bf898a1",
   "metadata": {},
   "outputs": [],
   "source": [
    "from voxcell import CellCollection\n",
    "\n",
    "relevant_cols = [\"pt_root_id\", \"cell_type\", \"tentative_region\"]\n",
    "tl = {\"tentative_region\": \"region\"}\n",
    "\n",
    "position_cols = [\"x_nm\", \"y_nm\", \"z_nm\"]\n",
    "tl_pos = {\"x_nm\": \"x\", \"y_nm\": \"y\", \"z_nm\": \"z\"}\n",
    "\n",
    "# morphology filename w/o root and extension\n",
    "_m_s = morph_series_tl.apply(lambda _x: os.path.splitext(os.path.split(_x)[1])[0])\n",
    "_m_s.name = \"morphology\"\n",
    "\n",
    "def append_quaternions(df_in):\n",
    "    df_q = pandas.DataFrame({\n",
    "        \"orientation_w\": numpy.ones(len(df_in)),\n",
    "        \"orientation_x\": numpy.zeros(len(df_in)),\n",
    "        \"orientation_y\": numpy.zeros(len(df_in)),\n",
    "        \"orientation_z\": numpy.zeros(len(df_in))\n",
    "    }, index=df_in.index)\n",
    "    return pandas.concat([df_in, df_q], axis=1)\n",
    "\n",
    "df = append_quaternions(\n",
    "    pandas.concat([S.vertices[relevant_cols].rename(columns=tl),\n",
    "                   S.vertices[position_cols].rename(columns=tl_pos) / 1000,\n",
    "                   _m_s[S.vertices[\"pt_root_id\"]].reset_index(drop=True)],\n",
    "             axis=1)\n",
    ")\n",
    "df.index = numpy.arange(1, len(df) + 1)\n",
    "\n",
    "coll = CellCollection.from_dataframe(df)\n",
    "coll.save_sonata(os.path.join(root_sonata_out, sonata_nodes))\n"
   ]
  }
 ],
 "metadata": {
  "kernelspec": {
   "display_name": "bluepysnap",
   "language": "python",
   "name": "bluepysnap"
  },
  "language_info": {
   "codemirror_mode": {
    "name": "ipython",
    "version": 3
   },
   "file_extension": ".py",
   "mimetype": "text/x-python",
   "name": "python",
   "nbconvert_exporter": "python",
   "pygments_lexer": "ipython3",
   "version": "3.10.8"
  }
 },
 "nbformat": 4,
 "nbformat_minor": 5
}
